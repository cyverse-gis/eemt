{
 "cells": [
  {
   "cell_type": "markdown",
   "metadata": {},
   "source": [
    "# Cloud Optimized GeoTiff creation\n",
    "\n",
    "First, I modified the original `.tif` 10 meter (m) digital elevation model to include [Cloud Optimized GeoTiff](https://cogeo.org) encoding.\n",
    "\n",
    "I also created a hillshade with overviews and thumbnails using a JPEG compression, for faster visualization in the browser."
   ]
  },
  {
   "cell_type": "code",
   "execution_count": null,
   "metadata": {},
   "outputs": [],
   "source": [
    "!gdal_translate Downloads/dem4eemt/lidar10m.tif vcnp.cog.tif -of COG -co TILING_SCHEME=GoogleMapsCompatible -co OVERVIEW_QUALITY=100 -co QUALITY=100"
   ]
  },
  {
   "cell_type": "markdown",
   "metadata": {},
   "source": [
    "After the COG was generated, I created a hillshade and added JPEG compression:"
   ]
  },
  {
   "cell_type": "code",
   "execution_count": null,
   "metadata": {},
   "outputs": [],
   "source": [
    "!gdaldem hillshade vcnp.cog.tif vcnp_hillshade.tif\n",
    "!gdal_translate vcnp_hillshade.tif vcnp_hillshade.cog.tif -b 1 -of COG -co TILING_SCHEME=GoogleMapsCompatible -co COMPRESS=JPEG -co OVERVIEW_QUALITY=100 -co QUALITY=100\n",
    "!gdaladdo --config COMPRESS_OVERVIEW JPEG --config JPEG_QUALITY_OVERVIEW 100 --config PHOTOMETRIC_OVERVIEW YCBCR --config INTERLEAVE_OVERVIEW PIXEL -r average vcnp_hillshade.cog.tif 2 4 8 16"
   ]
  },
  {
   "cell_type": "markdown",
   "metadata": {},
   "source": [
    "The resulting hillshade uses Google Maps projection, JPEG compression at 100 quality, with a photometric overview using `YCBCR` scheme"
   ]
  }
 ],
 "metadata": {
  "kernelspec": {
   "display_name": "Python 3.10.4 64-bit",
   "language": "python",
   "name": "python3"
  },
  "language_info": {
   "name": "python",
   "version": "3.10.4"
  },
  "orig_nbformat": 4,
  "vscode": {
   "interpreter": {
    "hash": "3ad933181bd8a04b432d3370b9dc3b0662ad032c4dfaa4e4f1596c548f763858"
   }
  }
 },
 "nbformat": 4,
 "nbformat_minor": 2
}
