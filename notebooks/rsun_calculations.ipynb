{
 "cells": [
  {
   "cell_type": "markdown",
   "metadata": {},
   "source": [
    "## About the GRASS `r.sun` calculations\n",
    "\n",
    "These workflows rely on the [GRASS GIS](https://grass.osgeo.org/) [`r.sun`](https://grass.osgeo.org/grass82/manuals/r.sun.html) algorithm.\n",
    "\n",
    "For expediency, we are using the [`r.sun.daily`](https://grass.osgeo.org/grass82/manuals/addons/r.sun.daily.html) ([github repo]](https://github.com/OSGeo/grass-addons/tree/grass8/src/raster/r.sun.daily)) which enables [raster parallelization with OpenMP](https://grasswiki.osgeo.org/wiki/Raster_Parallelization_with_OpenMP)\n",
    "\n",
    "## Assessing daily to monthly to annual radiation budgets\n",
    "\n",
    "[Axial precession](https://en.wikipedia.org/wiki/Axial_precession) of the Earth results wide variation in total insolation of the Earth surface over the course of a year. \n",
    "\n",
    "[Jensen's Inequality](https://en.wikipedia.org/wiki/Jensen%27s_inequality) explains the difference in the average of sums across a convex line. Because the total solar irradiance of a given location on the surface changes across\n",
    "\n",
    "![jensens](https://upload.wikimedia.org/wikipedia/commons/thumb/c/c7/ConvexFunction.svg/2880px-ConvexFunction.svg.png) (source: wikimedia)\n",
    "\n",
    "Units: Watts per Meter squared (W/m^2)\n",
    "Calculating instantaneous or sum of radiation of topographic surfaces over a single day can be enabled by new memory and cloud optimized formats, such as Cloud Optimized GeoTIFF, XArray and Zarr. \n",
    "\n",
    "## Solar Index Ratio\n",
    "\n",
    "To estimate the relative difference in temperature related to radiative surfaces, we are using an index called a solar index (`S_i`).\n",
    "\n",
    "In order to calculate the ratio, we calculate solar irradation twice, once using the actual topographic elevation with slope and aspect, and once with elevation but slope and aspect set to zero. The resulting surfaces are then differenced to derive the ratio."
   ]
  },
  {
   "cell_type": "markdown",
   "metadata": {},
   "source": []
  }
 ],
 "metadata": {
  "language_info": {
   "name": "python"
  },
  "orig_nbformat": 4
 },
 "nbformat": 4,
 "nbformat_minor": 2
}
